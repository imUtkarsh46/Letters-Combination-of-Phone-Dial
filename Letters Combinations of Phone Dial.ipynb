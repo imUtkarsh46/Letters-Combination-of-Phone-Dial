{
 "cells": [
  {
   "cell_type": "markdown",
   "id": "331256b8",
   "metadata": {},
   "source": [
    "# Static Way"
   ]
  },
  {
   "cell_type": "code",
   "execution_count": 91,
   "id": "549b4e50",
   "metadata": {},
   "outputs": [],
   "source": [
    "#Phone Dial\n",
    "dic = {\n",
    "    2 : ['a', 'b', 'c'],\n",
    "    3 : ['d', 'e', 'f'],\n",
    "    4 : ['g', 'h', 'i'],\n",
    "    5 : ['j', 'k', 'l'],\n",
    "    6 : ['m', 'n', 'o'],\n",
    "    7 : ['p', 'q', 'r', 's'],\n",
    "    8 : ['t', 'u', 'v'],\n",
    "    9 : ['w', 'x', 'y', 'z']\n",
    "}"
   ]
  },
  {
   "cell_type": "code",
   "execution_count": 92,
   "id": "a7453e21",
   "metadata": {},
   "outputs": [],
   "source": [
    "def combinations(num):\n",
    "    li = []\n",
    "    if len(num.split()[0]) == 2:\n",
    "        a = int(num.split()[0][0])\n",
    "        b = int(num.split()[0][1])\n",
    "        for i in dic[a]:\n",
    "            for j in dic[b]:\n",
    "                li.append(f\"{i}{j}\")\n",
    "\n",
    "    elif len(num.split()[0]) == 3:\n",
    "        a = int(num.split()[0][0])\n",
    "        b = int(num.split()[0][1])\n",
    "        c = int(num.split()[0][2])\n",
    "        for i in dic[a]:\n",
    "            for j in dic[b]:\n",
    "                for k in dic[c]:\n",
    "                    li.append(f\"{i}{j}{k}\")\n",
    "\n",
    "    elif len(num.split()[0]) == 4:\n",
    "        a = int(num.split()[0][0])\n",
    "        b = int(num.split()[0][1])\n",
    "        c = int(num.split()[0][2])\n",
    "        d = int(num.split()[0][3])\n",
    "        for i in dic[a]:\n",
    "            for j in dic[b]:\n",
    "                for k in dic[c]:\n",
    "                    for l in dic[d]:\n",
    "                        li.append(f\"{i}{j}{k}{l}\")\n",
    "\n",
    "    elif len(num.split()[0]) == 5:\n",
    "        a = int(num.split()[0][0])\n",
    "        b = int(num.split()[0][1])\n",
    "        c = int(num.split()[0][2])\n",
    "        d = int(num.split()[0][3])\n",
    "        e = int(num.split()[0][4])\n",
    "        for i in dic[a]:\n",
    "            for j in dic[b]:\n",
    "                for k in dic[c]:\n",
    "                    for l in dic[d]:\n",
    "                        for m in dic[e]:\n",
    "                            li.append(f\"{i}{j}{k}{l}{m}\")\n",
    "\n",
    "    elif len(num.split()[0]) == 6:\n",
    "        a = int(num.split()[0][0])\n",
    "        b = int(num.split()[0][1])\n",
    "        c = int(num.split()[0][2])\n",
    "        d = int(num.split()[0][3])\n",
    "        e = int(num.split()[0][4])\n",
    "        f = int(num.split()[0][5])\n",
    "        for i in dic[a]:\n",
    "            for j in dic[b]:\n",
    "                for k in dic[c]:\n",
    "                    for l in dic[d]:\n",
    "                        for m in dic[e]:\n",
    "                            for n in dic[f]:\n",
    "                                li.append(f\"{i}{j}{k}{l}{m}{n}\")\n",
    "\n",
    "    elif len(num.split()[0]) == 7:\n",
    "        a = int(num.split()[0][0])\n",
    "        b = int(num.split()[0][1])\n",
    "        c = int(num.split()[0][2])\n",
    "        d = int(num.split()[0][3])\n",
    "        e = int(num.split()[0][4])\n",
    "        f = int(num.split()[0][5])\n",
    "        g = int(num.split()[0][6])\n",
    "        for i in dic[a]:\n",
    "            for j in dic[b]:\n",
    "                for k in dic[c]:\n",
    "                    for l in dic[d]:\n",
    "                        for m in dic[e]:\n",
    "                            for n in dic[f]:\n",
    "                                for o in dic[g]:\n",
    "                                    li.append(f\"{i}{j}{k}{l}{m}{n}{o}\")\n",
    "\n",
    "    elif len(num.split()[0]) == 8:\n",
    "        a = int(num.split()[0][0])\n",
    "        b = int(num.split()[0][1])\n",
    "        c = int(num.split()[0][2])\n",
    "        d = int(num.split()[0][3])\n",
    "        e = int(num.split()[0][4])\n",
    "        f = int(num.split()[0][5])\n",
    "        g = int(num.split()[0][6])\n",
    "        h = int(num.split()[0][7])\n",
    "        for i in dic[a]:\n",
    "            for j in dic[b]:\n",
    "                for k in dic[c]:\n",
    "                    for l in dic[d]:\n",
    "                        for m in dic[e]:\n",
    "                            for n in dic[f]:\n",
    "                                for o in dic[g]:\n",
    "                                    for p in dic[h]:\n",
    "                                        li.append(f\"{i}{j}{k}{l}{m}{n}{o}{p}\")\n",
    "\n",
    "    elif len(num.split()[0]) == 9:\n",
    "        a = int(num.split()[0][0])\n",
    "        b = int(num.split()[0][1])\n",
    "        c = int(num.split()[0][2])\n",
    "        d = int(num.split()[0][3])\n",
    "        e = int(num.split()[0][4])\n",
    "        f = int(num.split()[0][5])\n",
    "        g = int(num.split()[0][6])\n",
    "        h = int(num.split()[0][7])\n",
    "        i = int(num.split()[0][8])\n",
    "        for i in dic[a]:\n",
    "            for j in dic[b]:\n",
    "                for k in dic[c]:\n",
    "                    for l in dic[d]:\n",
    "                        for m in dic[e]:\n",
    "                            for n in dic[f]:\n",
    "                                for o in dic[g]:\n",
    "                                    for p in dic[h]:\n",
    "                                        for q in dic[i]:\n",
    "                                            li.append(f\"{i}{j}{k}{l}{m}{n}{o}{p}{q}\")\n",
    "\n",
    "    #Printing The Result\n",
    "    print(f\"Combination : {li}\")\n",
    "    print(len(li))"
   ]
  },
  {
   "cell_type": "code",
   "execution_count": 93,
   "id": "88974bb2",
   "metadata": {},
   "outputs": [
    {
     "name": "stdout",
     "output_type": "stream",
     "text": [
      "Enter the Number : 456\n",
      "Combination : ['gjm', 'gjn', 'gjo', 'gkm', 'gkn', 'gko', 'glm', 'gln', 'glo', 'hjm', 'hjn', 'hjo', 'hkm', 'hkn', 'hko', 'hlm', 'hln', 'hlo', 'ijm', 'ijn', 'ijo', 'ikm', 'ikn', 'iko', 'ilm', 'iln', 'ilo']\n",
      "27\n"
     ]
    }
   ],
   "source": [
    "num = input(\"Enter the Number : \")\n",
    "combinations(num)"
   ]
  },
  {
   "cell_type": "markdown",
   "id": "751d67e3",
   "metadata": {},
   "source": [
    "# Dynamic Way"
   ]
  },
  {
   "cell_type": "code",
   "execution_count": 22,
   "id": "38a8ab8b",
   "metadata": {},
   "outputs": [],
   "source": [
    "class solution:\n",
    "    def lettercombination(self, digits: str):\n",
    "        letters = {\n",
    "        \"2\":\"abc\",\n",
    "        \"3\":\"def\",\n",
    "        \"4\":\"ghi\",\n",
    "        \"5\":\"jkl\",\n",
    "        \"6\":\"mno\",\n",
    "        \"7\":\"pqrs\",\n",
    "        \"8\":\"tuv\",\n",
    "        \"9\":\"wxyz\"\n",
    "    }\n",
    "        if not digits :\n",
    "            return []\n",
    "         \n",
    "        numbers = list(letters[digits[0]])\n",
    "#         print(numbers)\n",
    "        \n",
    "        for digit in digits[1:]:\n",
    "#             print(digit)\n",
    "            numbers = [old+new for old in numbers for new in list(letters[digit])]\n",
    "#             print(numbers)\n",
    "            \n",
    "        return numbers"
   ]
  },
  {
   "cell_type": "code",
   "execution_count": 24,
   "id": "8020d205",
   "metadata": {},
   "outputs": [
    {
     "name": "stdout",
     "output_type": "stream",
     "text": [
      "['m', 'n', 'o']\n"
     ]
    }
   ],
   "source": [
    "s1 = solution()\n",
    "print(s1.lettercombination(\"6\"))"
   ]
  },
  {
   "cell_type": "code",
   "execution_count": 33,
   "id": "be713e59",
   "metadata": {},
   "outputs": [],
   "source": [
    "def combination(digits):\n",
    "    letters = {\n",
    "        \"2\":\"abc\",\n",
    "        \"3\":\"def\",\n",
    "        \"4\":\"ghi\",\n",
    "        \"5\":\"jkl\",\n",
    "        \"6\":\"mno\",\n",
    "        \"7\":\"pqrs\",\n",
    "        \"8\":\"tuv\",\n",
    "        \"9\":\"wxyz\"\n",
    "    }\n",
    "    if not digits:\n",
    "        return []\n",
    "        \n",
    "    numbers = list(letters[digits[0]])\n",
    "#   print(numbers)\n",
    "        \n",
    "    for digit in digits[1:]:\n",
    "#       print(digit)\n",
    "        numbers = [old+new for old in numbers for new in list(letters[digit])]\n",
    "#       print(numbers)\n",
    "            \n",
    "    return numbers"
   ]
  },
  {
   "cell_type": "code",
   "execution_count": 37,
   "id": "b5a3b868",
   "metadata": {},
   "outputs": [
    {
     "name": "stdout",
     "output_type": "stream",
     "text": [
      "81\n",
      "['jgjm', 'jgjn', 'jgjo', 'jgkm', 'jgkn', 'jgko', 'jglm', 'jgln', 'jglo', 'jhjm', 'jhjn', 'jhjo', 'jhkm', 'jhkn', 'jhko', 'jhlm', 'jhln', 'jhlo', 'jijm', 'jijn', 'jijo', 'jikm', 'jikn', 'jiko', 'jilm', 'jiln', 'jilo', 'kgjm', 'kgjn', 'kgjo', 'kgkm', 'kgkn', 'kgko', 'kglm', 'kgln', 'kglo', 'khjm', 'khjn', 'khjo', 'khkm', 'khkn', 'khko', 'khlm', 'khln', 'khlo', 'kijm', 'kijn', 'kijo', 'kikm', 'kikn', 'kiko', 'kilm', 'kiln', 'kilo', 'lgjm', 'lgjn', 'lgjo', 'lgkm', 'lgkn', 'lgko', 'lglm', 'lgln', 'lglo', 'lhjm', 'lhjn', 'lhjo', 'lhkm', 'lhkn', 'lhko', 'lhlm', 'lhln', 'lhlo', 'lijm', 'lijn', 'lijo', 'likm', 'likn', 'liko', 'lilm', 'liln', 'lilo']\n"
     ]
    }
   ],
   "source": [
    "print(len(combination(\"5456\")))\n",
    "print(combination(\"5456\"))"
   ]
  },
  {
   "cell_type": "code",
   "execution_count": null,
   "id": "12061bc7",
   "metadata": {},
   "outputs": [],
   "source": []
  }
 ],
 "metadata": {
  "kernelspec": {
   "display_name": "Python 3",
   "language": "python",
   "name": "python3"
  },
  "language_info": {
   "codemirror_mode": {
    "name": "ipython",
    "version": 3
   },
   "file_extension": ".py",
   "mimetype": "text/x-python",
   "name": "python",
   "nbconvert_exporter": "python",
   "pygments_lexer": "ipython3",
   "version": "3.6.13"
  }
 },
 "nbformat": 4,
 "nbformat_minor": 5
}
